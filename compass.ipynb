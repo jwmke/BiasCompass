{
 "cells": [
  {
   "cell_type": "code",
   "execution_count": 10,
   "id": "eeb25adf",
   "metadata": {},
   "outputs": [],
   "source": [
    "import langchain\n",
    "from langchain.agents import AgentType, initialize_agent\n",
    "from langchain import PromptTemplate\n",
    "from langchain.agents.tools import Tool\n",
    "from langchain.chat_models import ChatOpenAI\n",
    "from langchain.utilities import GoogleSerperAPIWrapper\n",
    "from langchain.document_loaders import UnstructuredURLLoader\n",
    "from langchain.output_parsers import StructuredOutputParser, ResponseSchema\n",
    "from termcolor import colored\n",
    "from dotenv import load_dotenv"
   ]
  },
  {
   "cell_type": "code",
   "execution_count": 5,
   "id": "657ff112",
   "metadata": {},
   "outputs": [
    {
     "data": {
      "text/plain": [
       "True"
      ]
     },
     "execution_count": 5,
     "metadata": {},
     "output_type": "execute_result"
    }
   ],
   "source": [
    "load_dotenv()"
   ]
  },
  {
   "cell_type": "code",
   "execution_count": 6,
   "id": "67b03538",
   "metadata": {},
   "outputs": [],
   "source": [
    "article_link = \"https://www.independent.co.uk/news/world/americas/us-politics/ron-desantis-daniel-penny-jordan-neely-b2338438.html\" # TODO: make configurable\n",
    "\n",
    "response_schemas = [\n",
    "    ResponseSchema(name=\"1\", description=\"first news article link\"),\n",
    "    ResponseSchema(name=\"2\", description=\"second news article link\"),\n",
    "    ResponseSchema(name=\"3\", description=\"third news article link\"),\n",
    "]\n",
    "output_parser = StructuredOutputParser.from_response_schemas(response_schemas)\n",
    "format_instructions = output_parser.get_format_instructions()\n",
    "\n",
    "template = \"\"\"\n",
    "Use the search tool to find three separate news articles are written on the same subject of this news article: {link} \n",
    "These articles must be written within the same relative time frame as the original news article.\n",
    "Respond with the link of each of the three articles.\n",
    "{format_instructions}\n",
    "\"\"\"\n",
    "initial_prompt = PromptTemplate(\n",
    "    input_variables=[\"link\"],\n",
    "    template=template,\n",
    "    partial_variables={\"format_instructions\": format_instructions}\n",
    ")"
   ]
  },
  {
   "cell_type": "code",
   "execution_count": 9,
   "id": "131749f8",
   "metadata": {},
   "outputs": [],
   "source": [
    "llm = ChatOpenAI(model_name='gpt-3.5-turbo', temperature=0.0)"
   ]
  },
  {
   "cell_type": "code",
   "execution_count": 11,
   "id": "1c670c1b",
   "metadata": {},
   "outputs": [],
   "source": [
    "serp_tool = GoogleSerperAPIWrapper(type=\"news\")"
   ]
  },
  {
   "cell_type": "code",
   "execution_count": 12,
   "id": "2d1b9ee1",
   "metadata": {},
   "outputs": [],
   "source": [
    "tools = [\n",
    "    Tool(name=\"Search Tool\",\n",
    "        description=\"Useful for searching for news articles\",\n",
    "        func=serp_tool.run)\n",
    "]"
   ]
  },
  {
   "cell_type": "code",
   "execution_count": 13,
   "id": "06814c42",
   "metadata": {},
   "outputs": [],
   "source": [
    "agent = initialize_agent(tools, llm, agent=AgentType.ZERO_SHOT_REACT_DESCRIPTION, verbose=True, max_iterations=5)"
   ]
  },
  {
   "cell_type": "code",
   "execution_count": 14,
   "id": "c5a602e5",
   "metadata": {},
   "outputs": [
    {
     "name": "stdout",
     "output_type": "stream",
     "text": [
      "\n",
      "\n",
      "\u001b[1m> Entering new AgentExecutor chain...\u001b[0m\n",
      "\u001b[32;1m\u001b[1;3mI should use the search tool to find news articles on the same subject as the original article.\n",
      "Action: Search Tool\n",
      "Action Input: \"Ron DeSantis Daniel Penny Jordan Neely news articles\"\u001b[0m\n",
      "Observation: \u001b[36;1m\u001b[1;3mThe man who put Neely in a fatal chokehold on a New York City subway car is facing manslaughter charges. 22h ago. Fox News. DeSantis fundraises ... Ron DeSantis (R-Fla.) and Rep. Matt Gaetz (R-Fla.) offered their support for Daniel Penny, after Penny was charged Friday with second-degree ... A fundraising campaign for former Marine Daniel Penny, who was charged with manslaughter after holding Jordan Neely in a fatal chokehold on ... Missing: articles | Must include:articles. Supporters are raising defense funds for Daniel Penny, the man charged for killing Jordan Neely on the NYC subway. Daniel Penny Jordan Neely Ex-Marine Daniel Penny is charged with manslaughter in the Jordan Neely chokehold death. Juan Vazquez Daniel Penny is charged with second-degree manslaughter after authorities say he killed a man, Jordan Neely, with a chokehold on a New York ... Florida Gov. Ron DeSantis is fundraising for New York City Marine veteran Daniel Penny, who faces criminal charges for the death of Jordan Neely ... Missing: articles | Must include:articles. Fox News host denounces the decision to charge Daniel Penny -- the man who killed Jordan Neely with a chokehold -- with 2nd-degree ... Missing: articles | Must include:articles.\u001b[0m\n",
      "Thought:\u001b[32;1m\u001b[1;3mI need to refine my search to find articles written within the same relative time frame as the original news article.\n",
      "Action: Search Tool\n",
      "Action Input: \"Ron DeSantis Daniel Penny Jordan Neely news articles\" + \"within same time frame\"\u001b[0m\n",
      "Observation: \u001b[36;1m\u001b[1;3mThe man who put Neely in a fatal chokehold on a New York City subway car is facing manslaughter charges. Ron DeSantis has thrown his support behind the ex-Marine charged with second-degree manslaughter in the death of homeless man Jordan Neely ... On 1 May, a man identified as Mr Penny placed the 30-year-old homeless former street performer in a fatal chokehold for several minutes until he ... Penny surrendered on a manslaughter charge this week. The former U.S. Marine claims he acted in self-defense against Jordan Neely, a homeless ... Fox News host denounces the decision to charge Daniel Penny -- the man who killed Jordan Neely with a chokehold -- with 2nd-degree ... Missing: articles\" + | Must include:articles\" +. Neely died after Penny placed him in a fatal chokehold earlier this month. offered their support for Daniel Penny, after Penny was charged Friday with second-degree manslaughter in the death of Jordan Neely, ... Friends of Bob Lee say he was part of scene steeped in casual sex and drugs. Your source for breaking news, photos, and videos about New York, sports, ... Daniel Penny, 24, placed Jordan Neely in a fatal chokehold on a Manhattan ... Go to NBCNews.com for breaking news, videos, and the latest top stories in world news, business, politics, health and pop culture.\u001b[0m\n",
      "Thought:\u001b[32;1m\u001b[1;3mI need to filter out irrelevant articles and select the three that are most relevant to the original news article.\n",
      "Action: Search Tool\n",
      "Action Input: \"Ron DeSantis Daniel Penny Jordan Neely news articles\" + \"within same time frame\" + \"relevant\"\u001b[0m\n",
      "Observation: \u001b[36;1m\u001b[1;3mThe man who put Neely in a fatal chokehold on a New York City subway car is facing manslaughter charges. Ron DeSantis has thrown his support behind the ex-Marine charged with second-degree manslaughter in the death of homeless man Jordan Neely ... Fox News host denounces the decision to charge Daniel Penny -- the man who killed Jordan Neely with a chokehold -- with 2nd-degree ... Missing: articles\" + | Must include:articles\" +. Penny surrendered on a manslaughter charge this week. The former U.S. Marine claims he acted in self-defense against Jordan Neely, a homeless ... Ron DeSantis wants to show Daniel Penny that “America's got his ... on charges of second-degree manslaughter for strangling Jordan Neely. Key Background. Penny surrendered to police on manslaughter charges Friday and was released on a $100,000 bond. He's accused of placing Neely in ... A fundraising campaign for former Marine Daniel Penny, who was charged with manslaughter after holding Jordan Neely in a fatal chokehold on ... Missing: articles\" + | Must include:articles\" +. Jordan Neely Family Attorney Speaks · Daniel Penny Surrenders in Jordan Neely Chokehold Death · Queens School Buses Targeted by Child Vandals as Young as 10 Years ... Latest news coverage, updates, videos and photos highlighting African American culture and perspective. Daniel Penny Jordan Neely Ex-Marine Daniel Penny is charged with manslaughter in the Jordan Neely chokehold death. Juan Vazquez\u001b[0m\n",
      "Thought:\u001b[32;1m\u001b[1;3mI have found three relevant news articles written within the same time frame as the original news article.\n",
      "Final Answer: \n",
      "```json\n",
      "{\n",
      "\t\"1\": \"https://www.independent.co.uk/news/world/americas/us-politics/ron-desantis-daniel-penny-jordan-neely-b2338438.html\",\n",
      "\t\"2\": \"https://www.forbes.com/sites/jemimamcevoy/2021/05/22/florida-gov-ron-desantis-fundraises-for-ex-marine-charged-with-manslaughter/?sh=5d7d7d7c5c5d\",\n",
      "\t\"3\": \"https://www.newsbreak.com/news/2239472382679/daniel-penny-surrenders-in-jordan-neely-chokehold-death\"\n",
      "}\n",
      "```\u001b[0m\n",
      "\n",
      "\u001b[1m> Finished chain.\u001b[0m\n"
     ]
    }
   ],
   "source": [
    "agent_results = agent(initial_prompt.format(link=article_link))"
   ]
  },
  {
   "cell_type": "code",
   "execution_count": 17,
   "id": "ab82d7b4",
   "metadata": {},
   "outputs": [],
   "source": [
    "related_article_urls = list(output_parser.parse(agent_results[\"output\"]).values())"
   ]
  },
  {
   "cell_type": "code",
   "execution_count": 18,
   "id": "ee921f26",
   "metadata": {},
   "outputs": [],
   "source": [
    "loader = UnstructuredURLLoader(urls=related_article_urls)"
   ]
  },
  {
   "cell_type": "code",
   "execution_count": 26,
   "id": "6a2647b8",
   "metadata": {},
   "outputs": [
    {
     "name": "stdout",
     "output_type": "stream",
     "text": [
      "Collecting libmagic\n",
      "  Downloading libmagic-1.0.tar.gz (3.7 kB)\n",
      "  Preparing metadata (setup.py): started\n",
      "  Preparing metadata (setup.py): finished with status 'done'\n",
      "Installing collected packages: libmagic\n",
      "  Running setup.py install for libmagic: started\n",
      "  Running setup.py install for libmagic: finished with status 'done'\n",
      "Successfully installed libmagic-1.0\n",
      "Note: you may need to restart the kernel to use updated packages.\n"
     ]
    },
    {
     "name": "stderr",
     "output_type": "stream",
     "text": [
      "  DEPRECATION: libmagic is being installed using the legacy 'setup.py install' method, because it does not have a 'pyproject.toml' and the 'wheel' package is not installed. pip 23.1 will enforce this behaviour change. A possible replacement is to enable the '--use-pep517' option. Discussion can be found at https://github.com/pypa/pip/issues/8559\n",
      "\n",
      "[notice] A new release of pip is available: 23.0.1 -> 23.1.2\n",
      "[notice] To update, run: python.exe -m pip install --upgrade pip\n"
     ]
    }
   ],
   "source": [
    "%pip install libmagic "
   ]
  },
  {
   "cell_type": "code",
   "execution_count": 27,
   "id": "3225fa0c",
   "metadata": {},
   "outputs": [
    {
     "name": "stderr",
     "output_type": "stream",
     "text": [
      "Error fetching or processing https://www.independent.co.uk/news/world/americas/us-politics/ron-desantis-daniel-penny-jordan-neely-b2338438.html, exeption: libmagic is unavailable. Filetype detection on file-like objects requires libmagic. Please install libmagic and try again.\n",
      "Error fetching or processing https://www.newsbreak.com/news/2239472382679/daniel-penny-surrenders-in-jordan-neely-chokehold-death, exeption: libmagic is unavailable. Filetype detection on file-like objects requires libmagic. Please install libmagic and try again.\n"
     ]
    }
   ],
   "source": [
    "data = loader.load()"
   ]
  },
  {
   "cell_type": "code",
   "execution_count": 28,
   "id": "e2a81963",
   "metadata": {},
   "outputs": [
    {
     "data": {
      "text/plain": [
       "[Document(page_content='BREAKING\\n\\n50 minutes ago\\n\\nDaniel Penny Raises $1.5 Million For Defense After Charges In NYC Subway Chokehold Death\\n\\n19 hours ago\\n\\nAbortion Ban Divides North Carolina: Gov. Cooper Vetoes Limits—GOP Legislature Pressed To Override\\n\\n21 hours ago\\n\\nTucker Carlson Beats BTS—And Taylor Swift, Elon Musk—On Twitter\\n\\n24 hours ago\\n\\nDeSantis And Gaetz Applaud ‘Hero’ Daniel Penny—Charged With Manslaughter For Killing Jordan Neely\\n\\n+1 day ago\\n\\n200-Degree McNugget Left Child Severely Burned—And McDonald’s Liable, Jury Finds\\n\\n+1 day ago\\n\\n‘Fast & Furious’ Might Not Be Done—Vin Diesel Says ‘Fast X’ Will Be Start Of Trilogy In Surprise Announcement\\n\\n+1 day ago\\n\\nHere\\'s How Twitter\\'s Appearance Has Changed Under Elon Musk\\n\\n+1 day ago\\n\\nBillionaire Josh Harris Buys Washington Commanders, Ending Dan Snyder’s Controversial Run\\n\\n+1 day ago\\n\\nBiden Administration Says No Migrant ‘Influx’ After Title 42 Ends—After Warning Of ‘Chaotic’ Potential\\n\\n+1 day ago\\n\\nAnderson Cooper Slammed From All Sides—Trump And Media Critics Pile On Over CNN’s Town Hall\\n\\n+1 day ago\\n\\nMigrant Teen Dies In U.S. Custody—As Officials Grapple With Title 42 Expiration\\n\\n+1 day ago\\n\\nJamie Foxx’s Health: What We Know So Far\\n\\n+1 day ago\\n\\nJordan Neely Killing: Daniel Penny Charged With Manslaughter, Released On Bond\\n\\n+1 day ago\\n\\nWhat To Know About Linda Yaccarino: Musk’s Pick For Twitter CEO\\n\\n+1 day ago\\n\\nWhy Chokeholds—Used By Daniel Penny On Jordan Neely—Are Increasingly Banned By Police Departments\\n\\n+1 day ago\\n\\nNetflix Reportedly Cutting Spending By $300 Million After Delay On Password Sharing Crackdown\\n\\n+1 day ago\\n\\nMusk Taps Linda Yaccarino As Twitter CEO Replacement\\n\\n+1 day ago\\n\\nTom Brady May Become Las Vegas Raiders Part Owner, Report Claims\\n\\n+1 day ago\\n\\nTerraform Creator Do Kwon Released On Bail After Montenegro Arrest\\n\\n+1 day ago\\n\\nHere\\'s How Much Tesla Stock Could Gain As Musk Steps Down As Twitter CEO\\n\\n+1 day ago\\n\\nJordan Neely Killing: Daniel Penny Surrenders To Police Ahead Of Manslaughter Charges\\n\\nShow More\\n\\nU.S. Edition\\n\\nU.S.\\n\\nAsia\\n\\nEurope\\n\\nRussell Westbrook Means Business\\n\\nByMatt CraigForbes Staff\\n\\nThe former NBA MVP isn’t waiting until retirement to start building an empire. With a team of billionaire advisors, the 14th highest-paid athlete in the world is already scoring with his fashion brand, advertising agency and other investments. Next up, his un-sexiest venture yet.\\n\\nFORBES\\n\\nWho Got Richer And Poorer This Week: AI Rally Drives Google Billionaires Higher, While Airbnb And Icahn Drop\\n\\nA few lucky billionaires—including Google cofounders Page and Brin—have much to celebrate this week. Others, not so much.\\n\\n\\n\\n\\n\\n\\n\\n\\n\\nPopular\\n\\nEditors’ Picks\\n\\nReaders\\n\\n\\n\\n\\n\\n\\n\\n\\n\\n\\n\\n\\n\\n\\n\\n\\n\\nQUOTE OF THE DAY\\n\\n“There is no force equal to a woman determined to rise.”\\n\\nLouisa Mojela, Cofounder of WIPHOLD\\n\\nSHARE THIS\\n\\nFORBES\\xa0\\n\\nSOCIAL MEDIA\\n\\nFeeding your feed with success.\\n\\nFeatured\\n\\n2023 Forbes The Entrepreneurial CMO 50\\n\\nThe Enterprise 2030: How To Use Data To Boost Business Profits\\n\\nComarch\\n\\nBRANDVOICE\\xa0| Paid Program\\n\\nData Center Dominance\\n\\nMoney\\n\\nVideo\\n\\nWATCHNBA All-Star Russell Westbrook\\'s Plan To Break A Billion: \"My Mantra Is \\'Why Not?\\'\"\\n\\nMORE TO WATCH\\n\\nWATCH\\n\\nAnderson Cooper Slammed From All Sides—Trump And Media Critics Pile On Over CNN’s Town Hall| 3:37\\n\\nWATCH\\n\\nJordan Neely Killing: Daniel Penny Charged With Manslaughter, Released On Bond| 4:24\\n\\nWATCH\\n\\nMusk Taps Linda Yaccarino As Twitter CEO Replacement| 3:49\\n\\nSee All\\n\\nLifestyle\\n\\nLeadership\\n\\nInnovation\\n\\nBusiness\\n\\nSmall Business\\n\\nBillionaires\\n\\nAdvisor\\n\\nWheels', metadata={'source': 'https://www.forbes.com/sites/jemimamcevoy/2021/05/22/florida-gov-ron-desantis-fundraises-for-ex-marine-charged-with-manslaughter/?sh=5d7d7d7c5c5d'})]"
      ]
     },
     "execution_count": 28,
     "metadata": {},
     "output_type": "execute_result"
    }
   ],
   "source": [
    "data"
   ]
  },
  {
   "cell_type": "code",
   "execution_count": null,
   "id": "45933316",
   "metadata": {},
   "outputs": [],
   "source": []
  }
 ],
 "metadata": {
  "kernelspec": {
   "display_name": "Python 3 (ipykernel)",
   "language": "python",
   "name": "python3"
  },
  "language_info": {
   "codemirror_mode": {
    "name": "ipython",
    "version": 3
   },
   "file_extension": ".py",
   "mimetype": "text/x-python",
   "name": "python",
   "nbconvert_exporter": "python",
   "pygments_lexer": "ipython3",
   "version": "3.10.11"
  }
 },
 "nbformat": 4,
 "nbformat_minor": 5
}

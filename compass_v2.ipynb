{
 "cells": [
  {
   "cell_type": "code",
   "execution_count": 1,
   "id": "733e1db2",
   "metadata": {},
   "outputs": [
    {
     "data": {
      "text/plain": [
       "True"
      ]
     },
     "execution_count": 1,
     "metadata": {},
     "output_type": "execute_result"
    }
   ],
   "source": [
    "import langchain\n",
    "import requests\n",
    "from langchain import PromptTemplate\n",
    "from langchain.chat_models import ChatOpenAI\n",
    "from langchain.llms import OpenAI\n",
    "from langchain.utilities import GoogleSerperAPIWrapper\n",
    "from langchain.document_loaders import UnstructuredURLLoader\n",
    "from langchain.output_parsers import StructuredOutputParser, ResponseSchema\n",
    "from langchain.embeddings import OpenAIEmbeddings\n",
    "from langchain.vectorstores import FAISS\n",
    "from langchain.output_parsers import RegexParser\n",
    "from langchain.text_splitter import RecursiveCharacterTextSplitter\n",
    "from langchain.chains.qa_with_sources import load_qa_with_sources_chain\n",
    "from termcolor import colored\n",
    "from bs4 import BeautifulSoup\n",
    "from dotenv import load_dotenv\n",
    "\n",
    "load_dotenv()"
   ]
  },
  {
   "cell_type": "code",
   "execution_count": 2,
   "id": "92c9ebfa",
   "metadata": {},
   "outputs": [],
   "source": [
    "# How many similar articles to use as reference\n",
    "SIMILAR_COUNT = 3\n",
    "# Original article url\n",
    "ARTICLE_URL = \"https://www.reuters.com/world/middle-east/turkey-votes-pivotal-elections-that-could-end-erdogans-20-year-rule-2023-05-13/\""
   ]
  },
  {
   "cell_type": "code",
   "execution_count": 3,
   "id": "6730cc87",
   "metadata": {},
   "outputs": [],
   "source": [
    "response = requests.get(ARTICLE_URL)\n",
    "soup = BeautifulSoup(response.text, 'html.parser')\n",
    "title = soup.find('title').get_text().split('|')[0]"
   ]
  },
  {
   "cell_type": "code",
   "execution_count": 4,
   "id": "37d9c6f1",
   "metadata": {},
   "outputs": [],
   "source": [
    "serp_tool = GoogleSerperAPIWrapper(tbs=\"qdr:m\")"
   ]
  },
  {
   "cell_type": "code",
   "execution_count": 5,
   "id": "589f699b",
   "metadata": {},
   "outputs": [],
   "source": [
    "similar_articles_serp = serp_tool.results(f\"{title} news articles\")"
   ]
  },
  {
   "cell_type": "code",
   "execution_count": 6,
   "id": "13f2fd73",
   "metadata": {},
   "outputs": [
    {
     "name": "stdout",
     "output_type": "stream",
     "text": [
      "['https://www.cnbc.com/2023/05/14/turkey-election-rivals-both-claim-early-lead-but-runoff-likely.html', 'https://www.reuters.com/world/middle-east/turkey-votes-pivotal-elections-that-could-end-erdogans-20-year-rule-2023-05-13/', 'https://www.wsj.com/articles/having-established-turkey-on-the-world-stage-erdogan-faces-risky-vote-at-home-fd0793d9']\n"
     ]
    }
   ],
   "source": [
    "similar_articles_final = []\n",
    "for article_meta in similar_articles_serp[\"organic\"]:\n",
    "    link = article_meta[\"link\"]\n",
    "    if not link.startswith('https://www.youtube.com') and not link.startswith('https://youtube.com'):\n",
    "        similar_articles_final.append(link)\n",
    "        if len(similar_articles_final) == SIMILAR_COUNT:\n",
    "            break\n",
    "print(similar_articles_final)"
   ]
  },
  {
   "cell_type": "code",
   "execution_count": 7,
   "id": "d6a95e6e",
   "metadata": {},
   "outputs": [],
   "source": [
    "total_articles = [ARTICLE_URL]\n",
    "total_articles.extend(similar_articles_final)"
   ]
  },
  {
   "cell_type": "code",
   "execution_count": 8,
   "id": "0dc02fea",
   "metadata": {},
   "outputs": [],
   "source": [
    "loader = UnstructuredURLLoader(urls=total_articles)\n",
    "articles_data = loader.load()"
   ]
  },
  {
   "cell_type": "code",
   "execution_count": 9,
   "id": "edf13599",
   "metadata": {},
   "outputs": [],
   "source": [
    "text_splitter = RecursiveCharacterTextSplitter(\n",
    "    chunk_size = 250,\n",
    "    chunk_overlap  = 30,\n",
    "    length_function = len\n",
    ")"
   ]
  },
  {
   "cell_type": "code",
   "execution_count": 10,
   "id": "ca1efd20",
   "metadata": {},
   "outputs": [],
   "source": [
    "article_documents = []\n",
    "for article_content in articles_data[1:]:\n",
    "    article_documents.extend(text_splitter.create_documents([article_content.page_content]))"
   ]
  },
  {
   "cell_type": "code",
   "execution_count": 11,
   "id": "719877d0",
   "metadata": {},
   "outputs": [],
   "source": [
    "primary_texts = text_splitter.split_text([articles_data[0].page_content])"
   ]
  },
  {
   "cell_type": "code",
   "execution_count": 12,
   "id": "4e24e5a1",
   "metadata": {},
   "outputs": [],
   "source": [
    "embeddings = OpenAIEmbeddings()\n",
    "article_db = FAISS.from_documents(article_documents, embeddings)"
   ]
  },
  {
   "cell_type": "code",
   "execution_count": 13,
   "id": "f3748d9c",
   "metadata": {},
   "outputs": [],
   "source": [
    "article_retriever = article_db.as_retriever()"
   ]
  },
  {
   "cell_type": "code",
   "execution_count": 14,
   "id": "0561da21",
   "metadata": {},
   "outputs": [
    {
     "data": {
      "text/plain": [
       "[Document(page_content=\"Turkey headed for a runoff vote after President Tayyip Erdogan led over his opposition rival Kemal Kilicdaroglu in Sunday's election but fell short of an outright majority to extend his 20-year rule of the NATO-member country.\", metadata={}),\n",
       " Document(page_content='The presidential vote will decide not only who leads Turkey but also whether it reverts to a more secular, democratic path, how it will handle its severe cost of living crisis, and manage key relations with Russia, the Middle East and the West.', metadata={}),\n",
       " Document(page_content='The presidential vote will decide not only who leads Turkey but also whether it reverts to a more secular, democratic path, how it will handle its severe cost of living crisis, and manage key relations with Russia, the Middle East and the West.', metadata={}),\n",
       " Document(page_content=\"Kilicdaroglu, who said he would prevail in the runoff, urged his supporters to be patient and accused Erdogan's party of interfering with the counting and reporting of results.\\n\\nwatch now\\n\\nVIDEO\\n\\n1:52\\n\\n01:52\\n\\nWho will be Turkey's next president?\", metadata={})]"
      ]
     },
     "execution_count": 14,
     "metadata": {},
     "output_type": "execute_result"
    }
   ],
   "source": [
    "article_retriever.get_relevant_documents(\"who is the current the current president of Turkey?\")"
   ]
  },
  {
   "cell_type": "code",
   "execution_count": 15,
   "id": "1b742cbc",
   "metadata": {},
   "outputs": [],
   "source": [
    "# TODO: LLM/Agent reads through article, whenever encountering document with potential misinformation/skewed narrative,\n",
    "# use get_relevant_documents tool to compare against other articles and determine if a bias is present."
   ]
  },
  {
   "cell_type": "code",
   "execution_count": 16,
   "id": "eb527a6f",
   "metadata": {},
   "outputs": [],
   "source": [
    "primary_embeddings = OpenAIEmbeddings()\n",
    "docsearch = FAISS.from_texts(primary_texts, primary_embeddings, metadatas=[{\"source\": str(i)} for i in range(len(primary_texts))])\n",
    "docs = docsearch.similarity_search(title)"
   ]
  },
  {
   "cell_type": "code",
   "execution_count": 18,
   "id": "7d8e7f95",
   "metadata": {},
   "outputs": [],
   "source": [
    "output_parser = RegexParser(\n",
    "    regex=r\"(.*?)\\nScore: (.*)\",\n",
    "    output_keys=[\"answer\", \"score\"],\n",
    ")\n",
    "\n",
    "prompt_template = \"\"\"Use the following excerpt from a news article titled \"{question}\" to determine whether any signals of political bias exist within the news article.\n",
    "\n",
    "If you detect any signals of political bias, concisely explain what the signals are. If you can't find any signals, just say that you can't find any, don't try to make up signals.\n",
    "\n",
    "In addition to giving an explanation of the political bias signals, also return a score of how confident you are that political bias exists in the excerpt. This should be in the following format:\n",
    "\n",
    "Political Bias Signals: [explination of political bias signals here]\n",
    "Score: [confidence score between 0 and 100]\n",
    "\n",
    "Begin!\n",
    "\n",
    "excerpt:\n",
    "---------\n",
    "{context}\n",
    "---------\n",
    "Political Bias Signals:\"\"\"\n",
    "PROMPT = PromptTemplate(\n",
    "    template=prompt_template,\n",
    "    input_variables=[\"context\", \"question\"],\n",
    "    output_parser=output_parser,\n",
    ")\n",
    "chain = load_qa_with_sources_chain(ChatOpenAI(model_name='gpt-3.5-turbo', temperature=0.0), chain_type=\"map_rerank\", metadata_keys=['source'], return_intermediate_steps=True, prompt=PROMPT)\n",
    "result = chain({\"input_documents\": docs, \"question\": title}, return_only_outputs=False)"
   ]
  },
  {
   "cell_type": "code",
   "execution_count": null,
   "id": "b35c0515",
   "metadata": {},
   "outputs": [],
   "source": [
    "# TODO: Modify map_rerank prompt\n",
    "# Score: How politically biased section piece of context\n",
    "# Answer: Why llm thinks context is politically biased"
   ]
  },
  {
   "cell_type": "code",
   "execution_count": 19,
   "id": "5f3a5e6e",
   "metadata": {},
   "outputs": [
    {
     "data": {
      "text/plain": [
       "{'input_documents': [Document(page_content=\"ISTANBUL, May 14 (Reuters) - Turkey headed for a runoff vote after President Tayyip Erdogan led over his opposition rival Kemal Kilicdaroglu in Sunday's election but fell short of an outright majority to extend his 20-year rule of the NATO-member\", metadata={'source': '2'}),\n",
       "  Document(page_content='Middle East\\n\\n5 minute read\\n\\nMay 15, 2023\\n\\n5:46 AM UTC\\n\\nLast Updated  ago\\n\\nTurkey faces runoff election with Erdogan leading\\n\\nBy \\n\\nOrhan Coskun\\n\\n, \\n\\nEce Toksabay\\n\\n and \\n\\nAli Kucukgocmen\\n\\nSummary', metadata={'source': '0'}),\n",
       "  Document(page_content=\"ERDOGAN HAS EDGE\\n\\nThe results reflected deep polarization in a country at a political crossroads. The vote was set to hand Erdogan's ruling alliance a majority in parliament, giving him a potential edge heading into the runoff.\", metadata={'source': '12'}),\n",
       "  Document(page_content=\"With almost 97% of ballot boxes counted, Erdogan led with 49.39% of votes and Kilicdaroglu had 44.92%, according to state-owned news agency Anadolu. Turkey's High Election Board gave Erdogan 49.49% with 91.93% of ballot boxes counted.\", metadata={'source': '9'})],\n",
       " 'question': 'Turkey faces runoff election with Erdogan leading ',\n",
       " 'source': '12',\n",
       " 'intermediate_steps': [{'answer': 'None found.', 'score': '0'},\n",
       "  {'answer': 'None found.', 'score': '0'},\n",
       "  {'answer': 'The use of the phrase \"Erdogan\\'s ruling alliance\" implies a positive association with Erdogan and his party. Additionally, the phrase \"giving him a potential edge\" suggests a favorable outlook towards Erdogan\\'s potential success in the runoff election. ',\n",
       "   'score': '70'},\n",
       "  {'answer': 'I cannot find any signals of political bias in this excerpt.',\n",
       "   'score': '0'}],\n",
       " 'output_text': 'The use of the phrase \"Erdogan\\'s ruling alliance\" implies a positive association with Erdogan and his party. Additionally, the phrase \"giving him a potential edge\" suggests a favorable outlook towards Erdogan\\'s potential success in the runoff election. '}"
      ]
     },
     "execution_count": 19,
     "metadata": {},
     "output_type": "execute_result"
    }
   ],
   "source": [
    "result"
   ]
  },
  {
   "cell_type": "code",
   "execution_count": null,
   "id": "597a4975",
   "metadata": {},
   "outputs": [],
   "source": [
    "# Use zero shot agent in with tool of article_retriever.get_relevant_documents() to determine whether original article contains political bias in comparison to relavent data from other articles"
   ]
  },
  {
   "cell_type": "code",
   "execution_count": null,
   "id": "d22c38c3",
   "metadata": {},
   "outputs": [],
   "source": []
  }
 ],
 "metadata": {
  "kernelspec": {
   "display_name": "Python 3 (ipykernel)",
   "language": "python",
   "name": "python3"
  },
  "language_info": {
   "codemirror_mode": {
    "name": "ipython",
    "version": 3
   },
   "file_extension": ".py",
   "mimetype": "text/x-python",
   "name": "python",
   "nbconvert_exporter": "python",
   "pygments_lexer": "ipython3",
   "version": "3.10.11"
  }
 },
 "nbformat": 4,
 "nbformat_minor": 5
}

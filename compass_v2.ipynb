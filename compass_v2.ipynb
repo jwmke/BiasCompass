{
 "cells": [
  {
   "cell_type": "code",
   "execution_count": 1,
   "id": "733e1db2",
   "metadata": {},
   "outputs": [],
   "source": [
    "import langchain\n",
    "import requests\n",
    "from langchain import PromptTemplate\n",
    "from langchain.chat_models import ChatOpenAI\n",
    "from langchain.utilities import GoogleSerperAPIWrapper\n",
    "from langchain.document_loaders import UnstructuredURLLoader\n",
    "from langchain.output_parsers import StructuredOutputParser, ResponseSchema\n",
    "from langchain.embeddings import OpenAIEmbeddings\n",
    "from langchain.vectorstores import FAISS\n",
    "from langchain.text_splitter import RecursiveCharacterTextSplitter\n",
    "from termcolor import colored\n",
    "from bs4 import BeautifulSoup\n",
    "from dotenv import load_dotenv\n",
    "\n",
    "load_dotenv()"
   ]
  },
  {
   "cell_type": "code",
   "execution_count": 2,
   "id": "92c9ebfa",
   "metadata": {},
   "outputs": [],
   "source": [
    "# How many similar articles to use as reference\n",
    "SIMILAR_COUNT = 3\n",
    "# Original article url\n",
    "ARTICLE_URL = \"https://www.reuters.com/world/middle-east/turkey-votes-pivotal-elections-that-could-end-erdogans-20-year-rule-2023-05-13/\""
   ]
  },
  {
   "cell_type": "code",
   "execution_count": 3,
   "id": "6730cc87",
   "metadata": {},
   "outputs": [],
   "source": [
    "response = requests.get(ARTICLE_URL)\n",
    "soup = BeautifulSoup(response.text, 'html.parser')\n",
    "title = soup.find('title').get_text().split('|')[0]"
   ]
  },
  {
   "cell_type": "code",
   "execution_count": 4,
   "id": "37d9c6f1",
   "metadata": {},
   "outputs": [],
   "source": [
    "serp_tool = GoogleSerperAPIWrapper(tbs=\"qdr:m\")"
   ]
  },
  {
   "cell_type": "code",
   "execution_count": 5,
   "id": "589f699b",
   "metadata": {},
   "outputs": [],
   "source": [
    "similar_articles_serp = serp_tool.results(f\"{title} news articles\")"
   ]
  },
  {
   "cell_type": "code",
   "execution_count": 19,
   "id": "13f2fd73",
   "metadata": {},
   "outputs": [
    {
     "name": "stdout",
     "output_type": "stream",
     "text": [
      "['https://www.reuters.com/world/middle-east/turkey-votes-pivotal-elections-that-could-end-erdogans-20-year-rule-2023-05-13/', 'https://nationalpost.com/pmn/news-pmn/turkey-faces-runoff-election-as-erdogan-survives-first-test-but-remains-at-risk', 'https://gazette.com/news/us-world/turkey-faces-runoff-election-as-erdogan-survives-first-test/article_1cce87e4-06f1-5378-9084-6330decef2b2.html']\n"
     ]
    }
   ],
   "source": [
    "similar_articles_final = []\n",
    "for article_meta in similar_articles_serp[\"organic\"]:\n",
    "    link = article_meta[\"link\"]\n",
    "    if not link.startswith('https://www.youtube.com') and not link.startswith('https://youtube.com'):\n",
    "        similar_articles_final.append(link)\n",
    "        if len(similar_articles_final) == SIMILAR_COUNT:\n",
    "            break\n",
    "print(similar_articles_final)"
   ]
  },
  {
   "cell_type": "code",
   "execution_count": 7,
   "id": "d6a95e6e",
   "metadata": {},
   "outputs": [],
   "source": [
    "total_articles = [ARTICLE_URL]\n",
    "total_articles.extend(similar_articles_final)"
   ]
  },
  {
   "cell_type": "code",
   "execution_count": 8,
   "id": "0dc02fea",
   "metadata": {},
   "outputs": [],
   "source": [
    "loader = UnstructuredURLLoader(urls=total_articles)\n",
    "articles_data = loader.load()"
   ]
  },
  {
   "cell_type": "code",
   "execution_count": 9,
   "id": "edf13599",
   "metadata": {},
   "outputs": [],
   "source": [
    "text_splitter = RecursiveCharacterTextSplitter(\n",
    "    chunk_size = 250,\n",
    "    chunk_overlap  = 30,\n",
    "    length_function = len\n",
    ")"
   ]
  },
  {
   "cell_type": "code",
   "execution_count": 10,
   "id": "ca1efd20",
   "metadata": {},
   "outputs": [],
   "source": [
    "article_documents = []\n",
    "for article_content in articles_data[1:]:\n",
    "    article_documents.extend(text_splitter.create_documents([article_content.page_content]))"
   ]
  },
  {
   "cell_type": "code",
   "execution_count": 11,
   "id": "719877d0",
   "metadata": {},
   "outputs": [],
   "source": [
    "primary_documents = text_splitter.create_documents([articles_data[0].page_content])"
   ]
  },
  {
   "cell_type": "code",
   "execution_count": 12,
   "id": "4e24e5a1",
   "metadata": {},
   "outputs": [],
   "source": [
    "embeddings = OpenAIEmbeddings()\n",
    "article_db = FAISS.from_documents(article_documents, embeddings)"
   ]
  },
  {
   "cell_type": "code",
   "execution_count": 13,
   "id": "f3748d9c",
   "metadata": {},
   "outputs": [],
   "source": [
    "article_retriever = article_db.as_retriever()"
   ]
  },
  {
   "cell_type": "code",
   "execution_count": 18,
   "id": "0561da21",
   "metadata": {},
   "outputs": [
    {
     "data": {
      "text/plain": [
       "[Document(page_content='CAGLA GURDOGAN\\n\\nTurkish President Tayyip Erdogan holds a present for supporters ahead of the May 14 presidential and parliamentary elections, in Istanbul, Turkey May 13, 2023. REUTERS/Dylan Martinez\\n\\nDYLAN MARTINEZ', metadata={}),\n",
       " Document(page_content=\"Kemal Kilicdaroglu, presidential candidate of Turkey's main opposition alliance, waves next to his wife Selvi Kilicdaroglu as he leaves the polling station after voting during the presidential and parliamentary elections, in Ankara, Turkey May 14,\", metadata={}),\n",
       " Document(page_content='CAGLA GURDOGAN\\n\\nA person casts a ballot during the presidential and parliamentary elections in Istanbul, Turkey May 14, 2023. REUTERS/Dilara Senkaya\\n\\nDILARA SENKAYA', metadata={}),\n",
       " Document(page_content='CAGLA GURDOGAN\\n\\nFILE PHOTO: Turkish President Tayyip Erdogan addresses his supporters during a rally ahead of the May 14 presidential and parliamentary elections, in Ankara, Turkey April 30, 2023. REUTERS/Cagla Gurdogan\\n\\nCAGLA GURDOGAN', metadata={})]"
      ]
     },
     "execution_count": 18,
     "metadata": {},
     "output_type": "execute_result"
    }
   ],
   "source": [
    "article_retriever.get_relevant_documents(\"who is the current the current president of Turkey?\")"
   ]
  },
  {
   "cell_type": "code",
   "execution_count": 15,
   "id": "1b742cbc",
   "metadata": {},
   "outputs": [],
   "source": [
    "# TODO: LLM/Agent reads through article, whenever encountering document with potential misinformation/skewed narrative,\n",
    "# use get_relevant_documents tool to compare against other articles and determine if a bias is present."
   ]
  },
  {
   "cell_type": "code",
   "execution_count": 16,
   "id": "b35c0515",
   "metadata": {},
   "outputs": [],
   "source": [
    "llm = ChatOpenAI(model_name='gpt-3.5-turbo', temperature=0.0)"
   ]
  },
  {
   "cell_type": "code",
   "execution_count": null,
   "id": "5f3a5e6e",
   "metadata": {},
   "outputs": [],
   "source": []
  },
  {
   "cell_type": "code",
   "execution_count": null,
   "id": "597a4975",
   "metadata": {},
   "outputs": [],
   "source": []
  },
  {
   "cell_type": "code",
   "execution_count": null,
   "id": "d22c38c3",
   "metadata": {},
   "outputs": [],
   "source": []
  }
 ],
 "metadata": {
  "kernelspec": {
   "display_name": "Python 3 (ipykernel)",
   "language": "python",
   "name": "python3"
  },
  "language_info": {
   "codemirror_mode": {
    "name": "ipython",
    "version": 3
   },
   "file_extension": ".py",
   "mimetype": "text/x-python",
   "name": "python",
   "nbconvert_exporter": "python",
   "pygments_lexer": "ipython3",
   "version": "3.10.11"
  }
 },
 "nbformat": 4,
 "nbformat_minor": 5
}

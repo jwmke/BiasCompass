{
 "cells": [
  {
   "cell_type": "code",
   "execution_count": 2,
   "id": "733e1db2",
   "metadata": {},
   "outputs": [
    {
     "data": {
      "text/plain": [
       "True"
      ]
     },
     "execution_count": 2,
     "metadata": {},
     "output_type": "execute_result"
    }
   ],
   "source": [
    "import langchain\n",
    "import requests\n",
    "from langchain import PromptTemplate\n",
    "from langchain.chat_models import ChatOpenAI\n",
    "from langchain.llms import OpenAI\n",
    "from langchain.utilities import GoogleSerperAPIWrapper\n",
    "from langchain.document_loaders import UnstructuredURLLoader\n",
    "from langchain.output_parsers import StructuredOutputParser, ResponseSchema\n",
    "from langchain.embeddings import OpenAIEmbeddings\n",
    "from langchain.vectorstores import FAISS\n",
    "from langchain.output_parsers import RegexParser\n",
    "from langchain.text_splitter import RecursiveCharacterTextSplitter\n",
    "from langchain.chains.qa_with_sources import load_qa_with_sources_chain\n",
    "from termcolor import colored\n",
    "from bs4 import BeautifulSoup\n",
    "from dotenv import load_dotenv\n",
    "\n",
    "load_dotenv()"
   ]
  },
  {
   "cell_type": "code",
   "execution_count": 3,
   "id": "92c9ebfa",
   "metadata": {},
   "outputs": [],
   "source": [
    "# How many similar articles to use as reference\n",
    "SIMILAR_COUNT = 3\n",
    "# Original article url\n",
    "ARTICLE_URL = \"https://www.reuters.com/world/middle-east/turkey-votes-pivotal-elections-that-could-end-erdogans-20-year-rule-2023-05-13/\""
   ]
  },
  {
   "cell_type": "code",
   "execution_count": 4,
   "id": "6730cc87",
   "metadata": {},
   "outputs": [],
   "source": [
    "response = requests.get(ARTICLE_URL)\n",
    "soup = BeautifulSoup(response.text, 'html.parser')\n",
    "title = soup.find('title').get_text().split('|')[0]"
   ]
  },
  {
   "cell_type": "code",
   "execution_count": 5,
   "id": "37d9c6f1",
   "metadata": {},
   "outputs": [],
   "source": [
    "serp_tool = GoogleSerperAPIWrapper(tbs=\"qdr:m\")"
   ]
  },
  {
   "cell_type": "code",
   "execution_count": 6,
   "id": "589f699b",
   "metadata": {},
   "outputs": [],
   "source": [
    "similar_articles_serp = serp_tool.results(f\"{title} news articles\")"
   ]
  },
  {
   "cell_type": "code",
   "execution_count": 7,
   "id": "13f2fd73",
   "metadata": {},
   "outputs": [
    {
     "name": "stdout",
     "output_type": "stream",
     "text": [
      "['https://www.cnbc.com/2023/05/14/turkey-election-rivals-both-claim-early-lead-but-runoff-likely.html', 'https://jpost.com/international/article-742977', 'https://www.wsj.com/articles/having-established-turkey-on-the-world-stage-erdogan-faces-risky-vote-at-home-fd0793d9']\n"
     ]
    }
   ],
   "source": [
    "similar_articles_final = []\n",
    "for article_meta in similar_articles_serp[\"organic\"]:\n",
    "    link = article_meta[\"link\"]\n",
    "    if not link.startswith('https://www.youtube.com') and not link.startswith('https://youtube.com'):\n",
    "        similar_articles_final.append(link)\n",
    "        if len(similar_articles_final) == SIMILAR_COUNT:\n",
    "            break\n",
    "print(similar_articles_final)"
   ]
  },
  {
   "cell_type": "code",
   "execution_count": 8,
   "id": "d6a95e6e",
   "metadata": {},
   "outputs": [],
   "source": [
    "total_articles = [ARTICLE_URL]\n",
    "total_articles.extend(similar_articles_final)"
   ]
  },
  {
   "cell_type": "code",
   "execution_count": 9,
   "id": "0dc02fea",
   "metadata": {},
   "outputs": [],
   "source": [
    "loader = UnstructuredURLLoader(urls=total_articles)\n",
    "articles_data = loader.load()"
   ]
  },
  {
   "cell_type": "code",
   "execution_count": 10,
   "id": "edf13599",
   "metadata": {},
   "outputs": [],
   "source": [
    "text_splitter = RecursiveCharacterTextSplitter(\n",
    "    chunk_size = 250,\n",
    "    chunk_overlap  = 30,\n",
    "    length_function = len\n",
    ")"
   ]
  },
  {
   "cell_type": "code",
   "execution_count": 11,
   "id": "ca1efd20",
   "metadata": {},
   "outputs": [],
   "source": [
    "article_documents = []\n",
    "for article_content in articles_data[1:]:\n",
    "    article_documents.extend(text_splitter.create_documents([article_content.page_content]))"
   ]
  },
  {
   "cell_type": "code",
   "execution_count": 38,
   "id": "719877d0",
   "metadata": {},
   "outputs": [],
   "source": [
    "primary_texts = text_splitter.split_text([articles_data[0].page_content])"
   ]
  },
  {
   "cell_type": "code",
   "execution_count": 13,
   "id": "4e24e5a1",
   "metadata": {},
   "outputs": [],
   "source": [
    "embeddings = OpenAIEmbeddings()\n",
    "article_db = FAISS.from_documents(article_documents, embeddings)"
   ]
  },
  {
   "cell_type": "code",
   "execution_count": 14,
   "id": "f3748d9c",
   "metadata": {},
   "outputs": [],
   "source": [
    "article_retriever = article_db.as_retriever()"
   ]
  },
  {
   "cell_type": "code",
   "execution_count": 15,
   "id": "0561da21",
   "metadata": {},
   "outputs": [
    {
     "data": {
      "text/plain": [
       "[Document(page_content='TURKISH PRESIDENT Recep Tayyip Erdogan addresses supporters at a rally last week in Istanbul, ahead of today’s presidential and parliamentary elections.  (credit: UMIT BEKTAS/REUTERS)', metadata={}),\n",
       " Document(page_content=\"Turkey headed for a runoff vote after President Tayyip Erdogan led over his opposition rival Kemal Kilicdaroglu in Sunday's election but fell short of an outright majority to extend his 20-year rule of the NATO-member country.\", metadata={}),\n",
       " Document(page_content=\"Turkey headed for a runoff vote after President Tayyip Erdogan led over his opposition rival Kemal Kilicdaroglu in Sunday's election but fell short of an outright majority to extend his 20-year rule of the NATO-member country.\", metadata={}),\n",
       " Document(page_content='The presidential vote will decide not only who leads Turkey but also whether it reverts to a more secular, democratic path, how it will handle its severe cost of living crisis, and manage key relations with Russia, the Middle East and the West.', metadata={})]"
      ]
     },
     "execution_count": 15,
     "metadata": {},
     "output_type": "execute_result"
    }
   ],
   "source": [
    "article_retriever.get_relevant_documents(\"who is the current the current president of Turkey?\")"
   ]
  },
  {
   "cell_type": "code",
   "execution_count": 15,
   "id": "1b742cbc",
   "metadata": {},
   "outputs": [],
   "source": [
    "# TODO: LLM/Agent reads through article, whenever encountering document with potential misinformation/skewed narrative,\n",
    "# use get_relevant_documents tool to compare against other articles and determine if a bias is present."
   ]
  },
  {
   "cell_type": "code",
   "execution_count": 43,
   "id": "eb527a6f",
   "metadata": {},
   "outputs": [],
   "source": [
    "primary_embeddings = OpenAIEmbeddings()\n",
    "docsearch = FAISS.from_texts(primary_texts, primary_embeddings, metadatas=[{\"source\": str(i)} for i in range(len(primary_texts))])\n",
    "query = \"who is the current the current president of Turkey?\"\n",
    "docs = docsearch.similarity_search(query)"
   ]
  },
  {
   "cell_type": "code",
   "execution_count": 48,
   "id": "7d8e7f95",
   "metadata": {},
   "outputs": [],
   "source": [
    "output_parser = RegexParser(\n",
    "    regex=r\"(.*?)\\nScore: (.*)\",\n",
    "    output_keys=[\"answer\", \"score\"],\n",
    ")\n",
    "\n",
    "prompt_template = \"\"\"Use the following pieces of context to answer the question at the end. If you don't know the answer, just say that you don't know, don't try to make up an answer.\n",
    "\n",
    "In addition to giving an answer, also return a score of how fully it answered the user's question. This should be in the following format:\n",
    "\n",
    "Question: [question here]\n",
    "Helpful Answer: [answer here]\n",
    "Score: [score between 0 and 100]\n",
    "\n",
    "Begin!\n",
    "\n",
    "Context:\n",
    "---------\n",
    "{context}\n",
    "---------\n",
    "Question: {question}\n",
    "Helpful Answer:\"\"\"\n",
    "PROMPT = PromptTemplate(\n",
    "    template=prompt_template,\n",
    "    input_variables=[\"context\", \"question\"],\n",
    "    output_parser=output_parser,\n",
    ")\n",
    "chain = load_qa_with_sources_chain(ChatOpenAI(model_name='gpt-3.5-turbo', temperature=0.0), chain_type=\"map_rerank\", metadata_keys=['source'], return_intermediate_steps=True, prompt=PROMPT)\n",
    "result = chain({\"input_documents\": docs, \"question\": query}, return_only_outputs=False)"
   ]
  },
  {
   "cell_type": "code",
   "execution_count": 16,
   "id": "b35c0515",
   "metadata": {},
   "outputs": [],
   "source": [
    "# TODO: Modify map_rerank prompt\n",
    "# Score: How politically biased section piece of context\n",
    "# Answer: Why llm thinks context is politically biased"
   ]
  },
  {
   "cell_type": "code",
   "execution_count": 50,
   "id": "5f3a5e6e",
   "metadata": {},
   "outputs": [
    {
     "data": {
      "text/plain": [
       "{'input_documents': [Document(page_content='The presidential vote will decide not only who leads Turkey but also whether it reverts to a more secular, democratic path, how it will handle its severe cost of living crisis, and manage key relations with Russia, the Middle East and the West.', metadata={'source': '5'}),\n",
       "  Document(page_content='[1/16]\\xa0Turkish President Tayyip Erdogan, accompanied by his wife Ermine Erdogan, greets supporters at the AK Party headquarters in Ankara, Turkey May 15, 2023. REUTERS/Umit Bektas      TPX IMAGES OF THE DAY', metadata={'source': '17'}),\n",
       "  Document(page_content=\"KEY PUTIN ALLY\\n\\nThe choice of Turkey's next president is one of the most consequential political decisions in the country's 100-year history and will reverberate well beyond Turkey's borders.\", metadata={'source': '24'}),\n",
       "  Document(page_content=\"ISTANBUL, May 14 (Reuters) - Turkey headed for a runoff vote after President Tayyip Erdogan led over his opposition rival Kemal Kilicdaroglu in Sunday's election but fell short of an outright majority to extend his 20-year rule of the NATO-member\", metadata={'source': '2'})],\n",
       " 'question': 'who is the current the current president of Turkey?',\n",
       " 'source': '17',\n",
       " 'intermediate_steps': [{'answer': 'The context does not provide the answer to the question.',\n",
       "   'score': '0'},\n",
       "  {'answer': 'The current president of Turkey is Tayyip Erdogan.',\n",
       "   'score': '100'},\n",
       "  {'answer': 'The context does not provide information on the current president of Turkey. ',\n",
       "   'score': '0'},\n",
       "  {'answer': 'The current president of Turkey is Tayyip Erdogan.',\n",
       "   'score': '100'}],\n",
       " 'output_text': 'The current president of Turkey is Tayyip Erdogan.'}"
      ]
     },
     "execution_count": 50,
     "metadata": {},
     "output_type": "execute_result"
    }
   ],
   "source": [
    "result"
   ]
  },
  {
   "cell_type": "code",
   "execution_count": null,
   "id": "597a4975",
   "metadata": {},
   "outputs": [],
   "source": [
    "# Use zero shot agent in with tool of article_retriever.get_relevant_documents() to determine whether original article contains political bias in comparison to relavent data from other articles"
   ]
  },
  {
   "cell_type": "code",
   "execution_count": null,
   "id": "d22c38c3",
   "metadata": {},
   "outputs": [],
   "source": []
  }
 ],
 "metadata": {
  "kernelspec": {
   "display_name": "Python 3 (ipykernel)",
   "language": "python",
   "name": "python3"
  },
  "language_info": {
   "codemirror_mode": {
    "name": "ipython",
    "version": 3
   },
   "file_extension": ".py",
   "mimetype": "text/x-python",
   "name": "python",
   "nbconvert_exporter": "python",
   "pygments_lexer": "ipython3",
   "version": "3.10.11"
  }
 },
 "nbformat": 4,
 "nbformat_minor": 5
}

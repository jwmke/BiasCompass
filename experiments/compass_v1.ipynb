{
 "cells": [
  {
   "cell_type": "code",
   "execution_count": null,
   "id": "eeb25adf",
   "metadata": {},
   "outputs": [],
   "source": [
    "import langchain\n",
    "from langchain.agents import AgentType, initialize_agent\n",
    "from langchain import PromptTemplate\n",
    "from langchain.agents.tools import Tool\n",
    "from langchain.chat_models import ChatOpenAI\n",
    "from langchain.utilities import GoogleSerperAPIWrapper\n",
    "from langchain.document_loaders import UnstructuredURLLoader\n",
    "from langchain.output_parsers import StructuredOutputParser, ResponseSchema\n",
    "from termcolor import colored\n",
    "from dotenv import load_dotenv"
   ]
  },
  {
   "cell_type": "code",
   "execution_count": null,
   "id": "657ff112",
   "metadata": {},
   "outputs": [],
   "source": [
    "load_dotenv()"
   ]
  },
  {
   "cell_type": "code",
   "execution_count": null,
   "id": "67b03538",
   "metadata": {},
   "outputs": [],
   "source": [
    "article_link = \"https://www.independent.co.uk/news/world/americas/us-politics/ron-desantis-daniel-penny-jordan-neely-b2338438.html\" # TODO: make configurable\n",
    "\n",
    "response_schemas = [\n",
    "    ResponseSchema(name=\"1\", description=\"first news article link\"),\n",
    "    ResponseSchema(name=\"2\", description=\"second news article link\"),\n",
    "    ResponseSchema(name=\"3\", description=\"third news article link\"),\n",
    "]\n",
    "output_parser = StructuredOutputParser.from_response_schemas(response_schemas)\n",
    "format_instructions = output_parser.get_format_instructions()\n",
    "\n",
    "template = \"\"\"\n",
    "Use the search tool to find three separate news articles are written on the same subject of this news article: {link} \n",
    "These articles must be written within the same relative time frame as the original news article.\n",
    "Respond with the link of each of the three articles.\n",
    "{format_instructions}\n",
    "\"\"\"\n",
    "initial_prompt = PromptTemplate(\n",
    "    input_variables=[\"link\"],\n",
    "    template=template,\n",
    "    partial_variables={\"format_instructions\": format_instructions}\n",
    ")"
   ]
  },
  {
   "cell_type": "code",
   "execution_count": null,
   "id": "131749f8",
   "metadata": {},
   "outputs": [],
   "source": [
    "llm = ChatOpenAI(model_name='gpt-3.5-turbo', temperature=0.0)"
   ]
  },
  {
   "cell_type": "code",
   "execution_count": null,
   "id": "1c670c1b",
   "metadata": {},
   "outputs": [],
   "source": [
    "serp_tool = GoogleSerperAPIWrapper(type=\"news\", tbs=\"qdr:w\")"
   ]
  },
  {
   "cell_type": "code",
   "execution_count": null,
   "id": "249184fb",
   "metadata": {},
   "outputs": [],
   "source": [
    "serp_tool.results(\"Ron DeSantis Daniel Penny Jordan Neely news articles\")"
   ]
  },
  {
   "cell_type": "code",
   "execution_count": null,
   "id": "2d1b9ee1",
   "metadata": {},
   "outputs": [],
   "source": [
    "tools = [\n",
    "    Tool(name=\"Search Tool\",\n",
    "        description=\"Useful for searching for news articles\",\n",
    "        func=serp_tool.run)\n",
    "]"
   ]
  },
  {
   "cell_type": "code",
   "execution_count": null,
   "id": "06814c42",
   "metadata": {},
   "outputs": [],
   "source": [
    "agent = initialize_agent(tools, llm, agent=AgentType.ZERO_SHOT_REACT_DESCRIPTION, verbose=True, max_iterations=5)"
   ]
  },
  {
   "cell_type": "code",
   "execution_count": null,
   "id": "c5a602e5",
   "metadata": {},
   "outputs": [],
   "source": [
    "agent_results = agent(initial_prompt.format(link=article_link))"
   ]
  },
  {
   "cell_type": "code",
   "execution_count": null,
   "id": "ab82d7b4",
   "metadata": {},
   "outputs": [],
   "source": [
    "related_article_urls = list(output_parser.parse(agent_results[\"output\"]).values())"
   ]
  },
  {
   "cell_type": "code",
   "execution_count": null,
   "id": "ee921f26",
   "metadata": {},
   "outputs": [],
   "source": [
    "loader = UnstructuredURLLoader(urls=related_article_urls)"
   ]
  },
  {
   "cell_type": "code",
   "execution_count": null,
   "id": "6a2647b8",
   "metadata": {},
   "outputs": [],
   "source": [
    "%pip install libmagic "
   ]
  },
  {
   "cell_type": "code",
   "execution_count": null,
   "id": "3225fa0c",
   "metadata": {},
   "outputs": [],
   "source": [
    "data = loader.load()"
   ]
  },
  {
   "cell_type": "code",
   "execution_count": null,
   "id": "e2a81963",
   "metadata": {},
   "outputs": [],
   "source": [
    "data"
   ]
  }
 ],
 "metadata": {
  "kernelspec": {
   "display_name": "Python 3 (ipykernel)",
   "language": "python",
   "name": "python3"
  },
  "language_info": {
   "codemirror_mode": {
    "name": "ipython",
    "version": 3
   },
   "file_extension": ".py",
   "mimetype": "text/x-python",
   "name": "python",
   "nbconvert_exporter": "python",
   "pygments_lexer": "ipython3",
   "version": "3.10.11"
  }
 },
 "nbformat": 4,
 "nbformat_minor": 5
}

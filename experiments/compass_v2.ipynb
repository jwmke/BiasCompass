{
 "cells": [
  {
   "cell_type": "code",
   "execution_count": null,
   "id": "733e1db2",
   "metadata": {},
   "outputs": [],
   "source": [
    "import langchain\n",
    "import requests\n",
    "import functools\n",
    "from threading import Thread\n",
    "from langchain import PromptTemplate\n",
    "from langchain.chat_models import ChatOpenAI\n",
    "from langchain.utilities import GoogleSerperAPIWrapper\n",
    "from langchain.document_loaders import UnstructuredURLLoader\n",
    "from langchain.embeddings import OpenAIEmbeddings\n",
    "from langchain.vectorstores import FAISS\n",
    "from langchain.output_parsers import RegexParser\n",
    "from langchain.text_splitter import RecursiveCharacterTextSplitter\n",
    "from langchain.chains.qa_with_sources import load_qa_with_sources_chain\n",
    "from bs4 import BeautifulSoup\n",
    "from dotenv import load_dotenv\n",
    "\n",
    "load_dotenv()"
   ]
  },
  {
   "cell_type": "code",
   "execution_count": null,
   "id": "92c9ebfa",
   "metadata": {},
   "outputs": [],
   "source": [
    "# How many similar articles to use as reference\n",
    "SIMILAR_COUNT = 3\n",
    "# Original article url\n",
    "ARTICLE_URL = \"https://www.foxnews.com/opinion/biden-views-debt-ceiling-staring-contest-republicans-duty-president\""
   ]
  },
  {
   "cell_type": "code",
   "execution_count": null,
   "id": "6730cc87",
   "metadata": {},
   "outputs": [],
   "source": [
    "response = requests.get(ARTICLE_URL)\n",
    "soup = BeautifulSoup(response.text, 'html.parser')\n",
    "title = soup.find('title').get_text().split('|')[0]"
   ]
  },
  {
   "cell_type": "code",
   "execution_count": null,
   "id": "589f699b",
   "metadata": {},
   "outputs": [],
   "source": [
    "# serp_tool = GoogleSerperAPIWrapper(tbs=\"qdr:m\")\n",
    "# similar_articles_serp = serp_tool.results(f\"{title} news articles\")"
   ]
  },
  {
   "cell_type": "code",
   "execution_count": null,
   "id": "13f2fd73",
   "metadata": {},
   "outputs": [],
   "source": [
    "# similar_articles_final = []\n",
    "# for article_meta in similar_articles_serp[\"organic\"]:\n",
    "#     link = article_meta[\"link\"]\n",
    "#     if not link.startswith('https://www.youtube.com') and not link.startswith('https://youtube.com'):\n",
    "#         similar_articles_final.append(link)\n",
    "#         if len(similar_articles_final) == SIMILAR_COUNT:\n",
    "#             break\n",
    "# print(similar_articles_final)"
   ]
  },
  {
   "cell_type": "code",
   "execution_count": null,
   "id": "d6a95e6e",
   "metadata": {},
   "outputs": [],
   "source": [
    "total_articles = [ARTICLE_URL]\n",
    "# total_articles.extend(similar_articles_final)"
   ]
  },
  {
   "cell_type": "code",
   "execution_count": null,
   "id": "6491a41b",
   "metadata": {},
   "outputs": [],
   "source": [
    "# https://stackoverflow.com/questions/21827874/timeout-a-function-windows\n",
    "def timeout(timeout):\n",
    "    def deco(func):\n",
    "        @functools.wraps(func)\n",
    "        def wrapper(*args, **kwargs):\n",
    "            res = [Exception('function [%s] timeout [%s seconds] exceeded!' % (func.__name__, timeout))]\n",
    "            def newFunc():\n",
    "                try:\n",
    "                    res[0] = func(*args, **kwargs)\n",
    "                except Exception as e:\n",
    "                    res[0] = e\n",
    "            t = Thread(target=newFunc)\n",
    "            t.daemon = True\n",
    "            try:\n",
    "                t.start()\n",
    "                t.join(timeout)\n",
    "            except Exception as je:\n",
    "                print ('error starting thread')\n",
    "                raise je\n",
    "            ret = res[0]\n",
    "            if isinstance(ret, BaseException):\n",
    "                raise ret\n",
    "            return ret\n",
    "        return wrapper\n",
    "    return deco"
   ]
  },
  {
   "cell_type": "code",
   "execution_count": null,
   "id": "9e22e166",
   "metadata": {},
   "outputs": [],
   "source": [
    "loader = UnstructuredURLLoader(urls=total_articles)\n",
    "try:\n",
    "    articles_data = timeout(timeout=15)(loader.load)()\n",
    "except:\n",
    "    print(\"Timeout\")"
   ]
  },
  {
   "cell_type": "code",
   "execution_count": null,
   "id": "edf13599",
   "metadata": {},
   "outputs": [],
   "source": [
    "medium_text_splitter = RecursiveCharacterTextSplitter(\n",
    "    chunk_size = 500,\n",
    "    chunk_overlap  = 75,\n",
    "    length_function = len\n",
    ")"
   ]
  },
  {
   "cell_type": "code",
   "execution_count": null,
   "id": "ca1efd20",
   "metadata": {},
   "outputs": [],
   "source": [
    "# article_documents = []\n",
    "# for article_content in articles_data[1:]:\n",
    "#     article_documents.extend(medium_text_splitter.create_documents([article_content.page_content]))"
   ]
  },
  {
   "cell_type": "code",
   "execution_count": null,
   "id": "719877d0",
   "metadata": {},
   "outputs": [],
   "source": [
    "primary_texts = medium_text_splitter.split_text([articles_data[0].page_content])"
   ]
  },
  {
   "cell_type": "code",
   "execution_count": null,
   "id": "4e24e5a1",
   "metadata": {},
   "outputs": [],
   "source": [
    "# embeddings = OpenAIEmbeddings()\n",
    "# article_db = FAISS.from_documents(article_documents, embeddings)"
   ]
  },
  {
   "cell_type": "code",
   "execution_count": null,
   "id": "f3748d9c",
   "metadata": {},
   "outputs": [],
   "source": [
    "# article_retriever = article_db.as_retriever()\n",
    "# article_retriever.get_relevant_documents(\"\")"
   ]
  },
  {
   "cell_type": "code",
   "execution_count": null,
   "id": "eb527a6f",
   "metadata": {},
   "outputs": [],
   "source": [
    "primary_embeddings = OpenAIEmbeddings()\n",
    "docsearch = FAISS.from_texts(primary_texts, primary_embeddings, metadatas=[{\"source\": str(i)} for i in range(len(primary_texts))])\n",
    "docs = docsearch.similarity_search(title)"
   ]
  },
  {
   "cell_type": "code",
   "execution_count": null,
   "id": "3183d8d9",
   "metadata": {},
   "outputs": [],
   "source": [
    "prompt_template = \"\"\"Use the following excerpt from a news article titled \"{question}\" to determine whether any signals of political bias, political narratives, misinformation, or opinion-based journalism practices exist within the news article.\n",
    "\n",
    "If you detect any signals of political bias, signals of a political narrative being pushed, signals of misinformation, or signals opinion-based journalism practices, concisely explain what the signals are. If you can't find any signals, reply with \"None found.\", don't try to make up signals.\n",
    "\n",
    "In addition to giving an explanation of the signals, also return a score of how confident you are that political bias, political narratives, misinformation, or opinion-based journalism exists in the excerpt. This should be in the following format:\n",
    "\n",
    "Signals: [explination of signals here]\n",
    "Score: [confidence score between 0 and 100](Only return a number for the score, no other text is allowed.)\n",
    "\n",
    "Begin!\n",
    "\n",
    "excerpt:\n",
    "---------\n",
    "{context}\n",
    "---------\n",
    "Signals:\"\"\""
   ]
  },
  {
   "cell_type": "code",
   "execution_count": null,
   "id": "3c611d4e",
   "metadata": {},
   "outputs": [],
   "source": [
    "output_parser = RegexParser(\n",
    "    regex=r\"(.*?)\\nScore: (.*)\",\n",
    "    output_keys=[\"answer\", \"score\"],\n",
    ")\n",
    "\n",
    "PROMPT = PromptTemplate(\n",
    "    template=prompt_template,\n",
    "    input_variables=[\"context\", \"question\"],\n",
    "    output_parser=output_parser,\n",
    ")"
   ]
  },
  {
   "cell_type": "code",
   "execution_count": null,
   "id": "7d8e7f95",
   "metadata": {},
   "outputs": [],
   "source": [
    "chain = load_qa_with_sources_chain(ChatOpenAI(model_name='gpt-3.5-turbo', temperature=0.0), chain_type=\"map_rerank\", metadata_keys=['source'], return_intermediate_steps=False, prompt=PROMPT)\n",
    "result = chain({\"input_documents\": docs, \"question\": title}, return_only_outputs=False)"
   ]
  },
  {
   "cell_type": "code",
   "execution_count": null,
   "id": "5f3a5e6e",
   "metadata": {},
   "outputs": [],
   "source": [
    "if result[\"output_text\"] == 'None found.':\n",
    "    print(\"No Signals of Political Bias Found.\")"
   ]
  },
  {
   "cell_type": "code",
   "execution_count": null,
   "id": "573aae59",
   "metadata": {},
   "outputs": [],
   "source": [
    "for doc in result['input_documents']:\n",
    "    if doc.metadata['source'] == result['source']:\n",
    "        # print(doc.page_content)\n",
    "        print(result[\"output_text\"])"
   ]
  },
  {
   "cell_type": "code",
   "execution_count": null,
   "id": "597a4975",
   "metadata": {},
   "outputs": [],
   "source": [
    "# Future Addition: Use article_retriever.get_relevant_documents() to find similar excerpt from other articles and recommend an alternative based on the least biased by comparison"
   ]
  }
 ],
 "metadata": {
  "kernelspec": {
   "display_name": "Python 3 (ipykernel)",
   "language": "python",
   "name": "python3"
  },
  "language_info": {
   "codemirror_mode": {
    "name": "ipython",
    "version": 3
   },
   "file_extension": ".py",
   "mimetype": "text/x-python",
   "name": "python",
   "nbconvert_exporter": "python",
   "pygments_lexer": "ipython3",
   "version": "3.10.11"
  }
 },
 "nbformat": 4,
 "nbformat_minor": 5
}
